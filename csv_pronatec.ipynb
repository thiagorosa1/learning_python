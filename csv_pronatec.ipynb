{
 "cells": [
  {
   "cell_type": "code",
   "execution_count": 2,
   "metadata": {},
   "outputs": [],
   "source": [
    "# Importando bibliotecas\n",
    "import pandas as pd"
   ]
  },
  {
   "cell_type": "code",
   "execution_count": 3,
   "metadata": {},
   "outputs": [
    {
     "data": {
      "text/html": [
       "<div>\n",
       "<style scoped>\n",
       "    .dataframe tbody tr th:only-of-type {\n",
       "        vertical-align: middle;\n",
       "    }\n",
       "\n",
       "    .dataframe tbody tr th {\n",
       "        vertical-align: top;\n",
       "    }\n",
       "\n",
       "    .dataframe thead th {\n",
       "        text-align: right;\n",
       "    }\n",
       "</style>\n",
       "<table border=\"1\" class=\"dataframe\">\n",
       "  <thead>\n",
       "    <tr style=\"text-align: right;\">\n",
       "      <th></th>\n",
       "      <th>sigla_unidade_ensino</th>\n",
       "      <th>nome_unidade_ensino</th>\n",
       "      <th>dt_autorizacao</th>\n",
       "      <th>sigla_uf_unidade_ensino</th>\n",
       "      <th>nome_municipio_unidade_ensino</th>\n",
       "    </tr>\n",
       "  </thead>\n",
       "  <tbody>\n",
       "    <tr>\n",
       "      <th>0</th>\n",
       "      <td>NaN</td>\n",
       "      <td>ASSOCIAÇÃO TÉCNICO EDUCACIONAL EQUIPE</td>\n",
       "      <td>03/02/2015 17:31:40</td>\n",
       "      <td>RS</td>\n",
       "      <td>Sapucaia do Sul</td>\n",
       "    </tr>\n",
       "    <tr>\n",
       "      <th>1</th>\n",
       "      <td>NaN</td>\n",
       "      <td>CEFET DO MARANHAO</td>\n",
       "      <td>14/02/2014 19:44:56</td>\n",
       "      <td>MA</td>\n",
       "      <td>Tutóia</td>\n",
       "    </tr>\n",
       "    <tr>\n",
       "      <th>2</th>\n",
       "      <td>NaN</td>\n",
       "      <td>CEFET MG CAMPUS II</td>\n",
       "      <td>23/06/2010 14:27:47</td>\n",
       "      <td>MG</td>\n",
       "      <td>Belo Horizonte</td>\n",
       "    </tr>\n",
       "    <tr>\n",
       "      <th>3</th>\n",
       "      <td>NaN</td>\n",
       "      <td>CEFET-MG/campusV/Divinópolis</td>\n",
       "      <td>06/04/2009 08:07:15</td>\n",
       "      <td>MG</td>\n",
       "      <td>Divinópolis</td>\n",
       "    </tr>\n",
       "    <tr>\n",
       "      <th>4</th>\n",
       "      <td>NaN</td>\n",
       "      <td>CEFET - MG UNED contagem</td>\n",
       "      <td>21/03/2012 16:58:14</td>\n",
       "      <td>MG</td>\n",
       "      <td>Contagem</td>\n",
       "    </tr>\n",
       "  </tbody>\n",
       "</table>\n",
       "</div>"
      ],
      "text/plain": [
       "  sigla_unidade_ensino                     nome_unidade_ensino  \\\n",
       "0                  NaN  ASSOCIAÇÃO TÉCNICO EDUCACIONAL EQUIPE    \n",
       "1                  NaN                       CEFET DO MARANHAO   \n",
       "2                  NaN                      CEFET MG CAMPUS II   \n",
       "3                  NaN            CEFET-MG/campusV/Divinópolis   \n",
       "4                  NaN                CEFET - MG UNED contagem   \n",
       "\n",
       "        dt_autorizacao sigla_uf_unidade_ensino nome_municipio_unidade_ensino  \n",
       "0  03/02/2015 17:31:40                      RS               Sapucaia do Sul  \n",
       "1  14/02/2014 19:44:56                      MA                        Tutóia  \n",
       "2  23/06/2010 14:27:47                      MG                Belo Horizonte  \n",
       "3  06/04/2009 08:07:15                      MG                   Divinópolis  \n",
       "4  21/03/2012 16:58:14                      MG                      Contagem  "
      ]
     },
     "execution_count": 3,
     "metadata": {},
     "output_type": "execute_result"
    }
   ],
   "source": [
    "# carregar arquivo csv e converter em dataframe\n",
    "# se o separador do csv for diferente de virgula\n",
    "# df = pd.read_csv('Unidades_da_Rede_Federal_de_EPCT.csv', sep= ';')\n",
    "df = pd.read_csv('Unidades_da_Rede_Federal_de_EPCT.csv')\n",
    "df.head()"
   ]
  },
  {
   "cell_type": "code",
   "execution_count": 5,
   "metadata": {},
   "outputs": [
    {
     "data": {
      "text/plain": [
       "sigla_unidade_ensino             794\n",
       "nome_unidade_ensino              977\n",
       "dt_autorizacao                   977\n",
       "sigla_uf_unidade_ensino          977\n",
       "nome_municipio_unidade_ensino    977\n",
       "dtype: int64"
      ]
     },
     "execution_count": 5,
     "metadata": {},
     "output_type": "execute_result"
    }
   ],
   "source": [
    "# quantas escolas no arquivo\n",
    "df.count()"
   ]
  },
  {
   "cell_type": "code",
   "execution_count": 6,
   "metadata": {},
   "outputs": [
    {
     "data": {
      "text/html": [
       "<div>\n",
       "<style scoped>\n",
       "    .dataframe tbody tr th:only-of-type {\n",
       "        vertical-align: middle;\n",
       "    }\n",
       "\n",
       "    .dataframe tbody tr th {\n",
       "        vertical-align: top;\n",
       "    }\n",
       "\n",
       "    .dataframe thead th {\n",
       "        text-align: right;\n",
       "    }\n",
       "</style>\n",
       "<table border=\"1\" class=\"dataframe\">\n",
       "  <thead>\n",
       "    <tr style=\"text-align: right;\">\n",
       "      <th></th>\n",
       "      <th>sigla_unidade_ensino</th>\n",
       "      <th>nome_unidade_ensino</th>\n",
       "      <th>dt_autorizacao</th>\n",
       "      <th>sigla_uf_unidade_ensino</th>\n",
       "      <th>nome_municipio_unidade_ensino</th>\n",
       "    </tr>\n",
       "  </thead>\n",
       "  <tbody>\n",
       "    <tr>\n",
       "      <th>count</th>\n",
       "      <td>794</td>\n",
       "      <td>977</td>\n",
       "      <td>977</td>\n",
       "      <td>977</td>\n",
       "      <td>977</td>\n",
       "    </tr>\n",
       "    <tr>\n",
       "      <th>unique</th>\n",
       "      <td>58</td>\n",
       "      <td>964</td>\n",
       "      <td>976</td>\n",
       "      <td>27</td>\n",
       "      <td>726</td>\n",
       "    </tr>\n",
       "    <tr>\n",
       "      <th>top</th>\n",
       "      <td>IFMG</td>\n",
       "      <td>CENTRO FEDERAL DE EDUCAÇÃO TÉCNOLOGICA DE MINA...</td>\n",
       "      <td>21/11/2008 09:17:36</td>\n",
       "      <td>MG</td>\n",
       "      <td>Rio de Janeiro</td>\n",
       "    </tr>\n",
       "    <tr>\n",
       "      <th>freq</th>\n",
       "      <td>85</td>\n",
       "      <td>3</td>\n",
       "      <td>2</td>\n",
       "      <td>205</td>\n",
       "      <td>25</td>\n",
       "    </tr>\n",
       "  </tbody>\n",
       "</table>\n",
       "</div>"
      ],
      "text/plain": [
       "       sigla_unidade_ensino  \\\n",
       "count                   794   \n",
       "unique                   58   \n",
       "top                    IFMG   \n",
       "freq                     85   \n",
       "\n",
       "                                      nome_unidade_ensino  \\\n",
       "count                                                 977   \n",
       "unique                                                964   \n",
       "top     CENTRO FEDERAL DE EDUCAÇÃO TÉCNOLOGICA DE MINA...   \n",
       "freq                                                    3   \n",
       "\n",
       "             dt_autorizacao sigla_uf_unidade_ensino  \\\n",
       "count                   977                     977   \n",
       "unique                  976                      27   \n",
       "top     21/11/2008 09:17:36                      MG   \n",
       "freq                      2                     205   \n",
       "\n",
       "       nome_municipio_unidade_ensino  \n",
       "count                            977  \n",
       "unique                           726  \n",
       "top                   Rio de Janeiro  \n",
       "freq                              25  "
      ]
     },
     "execution_count": 6,
     "metadata": {},
     "output_type": "execute_result"
    }
   ],
   "source": [
    "df.describe()"
   ]
  },
  {
   "cell_type": "code",
   "execution_count": 14,
   "metadata": {},
   "outputs": [
    {
     "data": {
      "text/plain": [
       "MG    205\n",
       "RJ     70\n",
       "RS     66\n",
       "SP     61\n",
       "PR     60\n",
       "CE     47\n",
       "BA     44\n",
       "SC     42\n",
       "MA     32\n",
       "PI     32\n",
       "PE     31\n",
       "GO     30\n",
       "RN     29\n",
       "PB     28\n",
       "PA     26\n",
       "MT     23\n",
       "ES     23\n",
       "AM     22\n",
       "AL     21\n",
       "DF     20\n",
       "SE     12\n",
       "TO     11\n",
       "MS     11\n",
       "RO     10\n",
       "AC      7\n",
       "RR      7\n",
       "AP      7\n",
       "Name: sigla_uf_unidade_ensino, dtype: int64"
      ]
     },
     "execution_count": 14,
     "metadata": {},
     "output_type": "execute_result"
    }
   ],
   "source": [
    "# navengando pelas colunas contando quantas escolas existem por municipio\n",
    "df['sigla_uf_unidade_ensino'].value_counts()"
   ]
  },
  {
   "cell_type": "code",
   "execution_count": 15,
   "metadata": {},
   "outputs": [
    {
     "data": {
      "text/plain": [
       "<matplotlib.axes._subplots.AxesSubplot at 0x1812e116550>"
      ]
     },
     "execution_count": 15,
     "metadata": {},
     "output_type": "execute_result"
    },
    {
     "data": {
      "image/png": "[encoded data removed]",
      "text/plain": [
       "<Figure size 432x288 with 1 Axes>"
      ]
     },
     "metadata": {
      "needs_background": "light"
     },
     "output_type": "display_data"
    }
   ],
   "source": [
    "# mostrando dados em um grafico\n",
    "# informar que queremos visulizar o grafico no jupyter notebook\n",
    "%matplotlib inline\n",
    "df['sigla_uf_unidade_ensino'].value_counts().plot.bar()"
   ]
  },
  {
   "cell_type": "code",
   "execution_count": null,
   "metadata": {},
   "outputs": [],
   "source": []
  }
 ],
 "metadata": {
  "kernelspec": {
   "display_name": "Python 3",
   "language": "python",
   "name": "python3"
  },
  "language_info": {
   "codemirror_mode": {
    "name": "ipython",
    "version": 3
   },
   "file_extension": ".py",
   "mimetype": "text/x-python",
   "name": "python",
   "nbconvert_exporter": "python",
   "pygments_lexer": "ipython3",
   "version": "3.8.3"
  }
 },
 "nbformat": 4,
 "nbformat_minor": 4
}
